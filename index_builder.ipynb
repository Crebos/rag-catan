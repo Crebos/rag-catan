{
 "cells": [
  {
   "cell_type": "code",
   "execution_count": 80,
   "metadata": {},
   "outputs": [],
   "source": [
    "import os\n",
    "import json\n",
    "import re\n",
    "import pdfplumber\n",
    "from langchain.text_splitter import RecursiveCharacterTextSplitter\n",
    "from langchain.text_splitter import SentenceTransformersTokenTextSplitter\n",
    "from sentence_transformers import SentenceTransformer\n",
    "import faiss"
   ]
  },
  {
   "cell_type": "markdown",
   "metadata": {},
   "source": [
    "# Read PDFs and Chunk"
   ]
  },
  {
   "cell_type": "code",
   "execution_count": 29,
   "metadata": {},
   "outputs": [],
   "source": [
    "# Read PDF file and return full text\n",
    "\n",
    "def read_pdf(filepath):\n",
    "    text = \"\"\n",
    "    with pdfplumber.open(filepath) as pdf:\n",
    "        for page in pdf.pages:\n",
    "            page_text = page.extract_text()\n",
    "            if page_text:\n",
    "                text += page_text + \"\\n\"\n",
    "    return text"
   ]
  },
  {
   "cell_type": "code",
   "execution_count": 88,
   "metadata": {},
   "outputs": [],
   "source": [
    "def read_pdf_smart(filepath): \n",
    "    full_text = \"\"\n",
    "    with pdfplumber.open(filepath) as pdf:\n",
    "        for page in pdf.pages:\n",
    "            text = page.extract_text(x_tolerance=1.5, y_tolerance=1.5, layout=True)\n",
    "            if text:\n",
    "                full_text += text + \"\\n\"\n",
    "    return full_text"
   ]
  },
  {
   "cell_type": "code",
   "execution_count": 54,
   "metadata": {},
   "outputs": [],
   "source": [
    "# Chunk text with RecursiveCharacterTextSplitter\n",
    "def chunk_text(text, chunk_size=600, chunk_overlap=100):\n",
    "    splitter = RecursiveCharacterTextSplitter(\n",
    "        chunk_size=chunk_size,\n",
    "        chunk_overlap=chunk_overlap\n",
    "    )\n",
    "    return splitter.split_text(text)"
   ]
  },
  {
   "cell_type": "code",
   "execution_count": 87,
   "metadata": {},
   "outputs": [],
   "source": [
    "def chunk_text_smart(text):\n",
    "    lines = text.splitlines()\n",
    "    sections = []\n",
    "    current_heading = \"\"\n",
    "    buffer = []\n",
    "\n",
    "    for line in lines:\n",
    "        stripped = line.strip()\n",
    "        if is_heading(stripped):\n",
    "            # Save previous section\n",
    "            if buffer:\n",
    "                sections.append(current_heading + \"Content: \" + \"\\n\".join(buffer).strip())\n",
    "                buffer = []\n",
    "            current_heading = stripped\n",
    "        else:\n",
    "            buffer.append(stripped)\n",
    "\n",
    "    return sections\n",
    "\n",
    "def is_heading(line):\n",
    "    line = line.strip()\n",
    "    # Good heuristics for heading lines:\n",
    "    return (\n",
    "        len(line) < 100 and (\n",
    "            re.match(r\"^[A-Z][A-Z\\s]{3,}$\", line) or  # ALL CAPS\n",
    "            re.match(r\"^[A-Z][a-z]{1,15}(\\s+[A-Z][a-z]{1,15}){0,4}$\", line) or  # Title Case\n",
    "            re.match(r\"^[a-z]?\\)?\\s?[A-Z].{0,50}$\", line)  # a) Heading Y style\n",
    "        )\n",
    "    )"
   ]
  },
  {
   "cell_type": "code",
   "execution_count": 112,
   "metadata": {},
   "outputs": [],
   "source": [
    "def chunk_text_modelsized(text, model_name=\"sentence-transformers/all-MiniLM-L6-v2\", chunk_size=256, chunk_overlap=20):\n",
    "    splitter = SentenceTransformersTokenTextSplitter(\n",
    "        model_name=model_name\n",
    "    )\n",
    "    split_chunks = []\n",
    "    split_chunks.extend(splitter.split_text(text))\n",
    "        \n",
    "    return split_chunks"
   ]
  },
  {
   "cell_type": "code",
   "execution_count": 86,
   "metadata": {},
   "outputs": [],
   "source": [
    "# Save chunks as JSON to chunks/ directory\n",
    "def save_chunks_to_json(chunks, filename, output_dir=\"chunks\"):\n",
    "    os.makedirs(output_dir, exist_ok=True)\n",
    "    output_path = os.path.join(output_dir, filename)\n",
    "\n",
    "    # Wrap each chunk as a dict for easier future use\n",
    "    data = [{\"id\": i, \"text\": chunk} for i, chunk in enumerate(chunks)]\n",
    "\n",
    "    with open(output_path, \"w\", encoding=\"utf-8\") as f:\n",
    "        json.dump(data, f, ensure_ascii=False, indent=2)\n",
    "\n",
    "    print(f\"Saved {len(data)} chunks to {output_path}\")"
   ]
  },
  {
   "cell_type": "code",
   "execution_count": 113,
   "metadata": {},
   "outputs": [
    {
     "name": "stdout",
     "output_type": "stream",
     "text": [
      "Processing: data/catan_knights_3to4p.pdf\n",
      "Saved 81 chunks to chunks/catan_knights_3to4p.json\n",
      "Processing: data/catan_barbarians_3to4p.pdf\n"
     ]
    },
    {
     "ename": "KeyboardInterrupt",
     "evalue": "",
     "output_type": "error",
     "traceback": [
      "\u001b[0;31m---------------------------------------------------------------------------\u001b[0m",
      "\u001b[0;31mKeyboardInterrupt\u001b[0m                         Traceback (most recent call last)",
      "Cell \u001b[0;32mIn[113], line 10\u001b[0m\n\u001b[1;32m      6\u001b[0m chunk_path \u001b[38;5;241m=\u001b[39m os\u001b[38;5;241m.\u001b[39mpath\u001b[38;5;241m.\u001b[39msplitext(file)[\u001b[38;5;241m0\u001b[39m] \u001b[38;5;241m+\u001b[39m \u001b[38;5;124m\"\u001b[39m\u001b[38;5;124m.json\u001b[39m\u001b[38;5;124m\"\u001b[39m\n\u001b[1;32m      8\u001b[0m \u001b[38;5;28mprint\u001b[39m(\u001b[38;5;124mf\u001b[39m\u001b[38;5;124m\"\u001b[39m\u001b[38;5;124mProcessing: \u001b[39m\u001b[38;5;132;01m{\u001b[39;00mpdf_path\u001b[38;5;132;01m}\u001b[39;00m\u001b[38;5;124m\"\u001b[39m)\n\u001b[0;32m---> 10\u001b[0m text \u001b[38;5;241m=\u001b[39m \u001b[43mread_pdf_smart\u001b[49m\u001b[43m(\u001b[49m\u001b[43mpdf_path\u001b[49m\u001b[43m)\u001b[49m\n\u001b[1;32m     11\u001b[0m chunks \u001b[38;5;241m=\u001b[39m chunk_text_modelsized(text, \u001b[38;5;124m\"\u001b[39m\u001b[38;5;124msentence-transformers/all-MiniLM-L6-v2\u001b[39m\u001b[38;5;124m\"\u001b[39m, \u001b[38;5;241m112\u001b[39m, \u001b[38;5;241m22\u001b[39m)\n\u001b[1;32m     13\u001b[0m save_chunks_to_json(chunks, chunk_path)\n",
      "Cell \u001b[0;32mIn[88], line 5\u001b[0m, in \u001b[0;36mread_pdf_smart\u001b[0;34m(filepath)\u001b[0m\n\u001b[1;32m      3\u001b[0m \u001b[38;5;28;01mwith\u001b[39;00m pdfplumber\u001b[38;5;241m.\u001b[39mopen(filepath) \u001b[38;5;28;01mas\u001b[39;00m pdf:\n\u001b[1;32m      4\u001b[0m     \u001b[38;5;28;01mfor\u001b[39;00m page \u001b[38;5;129;01min\u001b[39;00m pdf\u001b[38;5;241m.\u001b[39mpages:\n\u001b[0;32m----> 5\u001b[0m         text \u001b[38;5;241m=\u001b[39m \u001b[43mpage\u001b[49m\u001b[38;5;241;43m.\u001b[39;49m\u001b[43mextract_text\u001b[49m\u001b[43m(\u001b[49m\u001b[43mx_tolerance\u001b[49m\u001b[38;5;241;43m=\u001b[39;49m\u001b[38;5;241;43m1.5\u001b[39;49m\u001b[43m,\u001b[49m\u001b[43m \u001b[49m\u001b[43my_tolerance\u001b[49m\u001b[38;5;241;43m=\u001b[39;49m\u001b[38;5;241;43m1.5\u001b[39;49m\u001b[43m,\u001b[49m\u001b[43m \u001b[49m\u001b[43mlayout\u001b[49m\u001b[38;5;241;43m=\u001b[39;49m\u001b[38;5;28;43;01mTrue\u001b[39;49;00m\u001b[43m)\u001b[49m\n\u001b[1;32m      6\u001b[0m         \u001b[38;5;28;01mif\u001b[39;00m text:\n\u001b[1;32m      7\u001b[0m             full_text \u001b[38;5;241m+\u001b[39m\u001b[38;5;241m=\u001b[39m text \u001b[38;5;241m+\u001b[39m \u001b[38;5;124m\"\u001b[39m\u001b[38;5;130;01m\\n\u001b[39;00m\u001b[38;5;124m\"\u001b[39m\n",
      "File \u001b[0;32m/home/zeus/miniconda3/envs/cloudspace/lib/python3.10/site-packages/pdfplumber/page.py:557\u001b[0m, in \u001b[0;36mPage.extract_text\u001b[0;34m(self, **kwargs)\u001b[0m\n\u001b[1;32m    556\u001b[0m \u001b[38;5;28;01mdef\u001b[39;00m\u001b[38;5;250m \u001b[39m\u001b[38;5;21mextract_text\u001b[39m(\u001b[38;5;28mself\u001b[39m, \u001b[38;5;241m*\u001b[39m\u001b[38;5;241m*\u001b[39mkwargs: Any) \u001b[38;5;241m-\u001b[39m\u001b[38;5;241m>\u001b[39m \u001b[38;5;28mstr\u001b[39m:\n\u001b[0;32m--> 557\u001b[0m     \u001b[38;5;28;01mreturn\u001b[39;00m \u001b[38;5;28;43mself\u001b[39;49m\u001b[38;5;241;43m.\u001b[39;49m\u001b[43mget_textmap\u001b[49m\u001b[43m(\u001b[49m\u001b[38;5;241;43m*\u001b[39;49m\u001b[38;5;241;43m*\u001b[39;49m\u001b[43mtuplify_list_kwargs\u001b[49m\u001b[43m(\u001b[49m\u001b[43mkwargs\u001b[49m\u001b[43m)\u001b[49m\u001b[43m)\u001b[49m\u001b[38;5;241m.\u001b[39mas_string\n",
      "File \u001b[0;32m/home/zeus/miniconda3/envs/cloudspace/lib/python3.10/site-packages/pdfplumber/page.py:534\u001b[0m, in \u001b[0;36mPage._get_textmap\u001b[0;34m(self, **kwargs)\u001b[0m\n\u001b[1;32m    532\u001b[0m     defaults\u001b[38;5;241m.\u001b[39mupdate({\u001b[38;5;124m\"\u001b[39m\u001b[38;5;124mlayout_height\u001b[39m\u001b[38;5;124m\"\u001b[39m: \u001b[38;5;28mself\u001b[39m\u001b[38;5;241m.\u001b[39mheight})\n\u001b[1;32m    533\u001b[0m full_kwargs: Dict[\u001b[38;5;28mstr\u001b[39m, Any] \u001b[38;5;241m=\u001b[39m {\u001b[38;5;241m*\u001b[39m\u001b[38;5;241m*\u001b[39mdefaults, \u001b[38;5;241m*\u001b[39m\u001b[38;5;241m*\u001b[39mkwargs}\n\u001b[0;32m--> 534\u001b[0m \u001b[38;5;28;01mreturn\u001b[39;00m utils\u001b[38;5;241m.\u001b[39mchars_to_textmap(\u001b[38;5;28;43mself\u001b[39;49m\u001b[38;5;241;43m.\u001b[39;49m\u001b[43mchars\u001b[49m, \u001b[38;5;241m*\u001b[39m\u001b[38;5;241m*\u001b[39mfull_kwargs)\n",
      "File \u001b[0;32m/home/zeus/miniconda3/envs/cloudspace/lib/python3.10/site-packages/pdfplumber/container.py:52\u001b[0m, in \u001b[0;36mContainer.chars\u001b[0;34m(self)\u001b[0m\n\u001b[1;32m     50\u001b[0m \u001b[38;5;129m@property\u001b[39m\n\u001b[1;32m     51\u001b[0m \u001b[38;5;28;01mdef\u001b[39;00m\u001b[38;5;250m \u001b[39m\u001b[38;5;21mchars\u001b[39m(\u001b[38;5;28mself\u001b[39m) \u001b[38;5;241m-\u001b[39m\u001b[38;5;241m>\u001b[39m T_obj_list:\n\u001b[0;32m---> 52\u001b[0m     \u001b[38;5;28;01mreturn\u001b[39;00m \u001b[38;5;28;43mself\u001b[39;49m\u001b[38;5;241;43m.\u001b[39;49m\u001b[43mobjects\u001b[49m\u001b[38;5;241m.\u001b[39mget(\u001b[38;5;124m\"\u001b[39m\u001b[38;5;124mchar\u001b[39m\u001b[38;5;124m\"\u001b[39m, [])\n",
      "File \u001b[0;32m/home/zeus/miniconda3/envs/cloudspace/lib/python3.10/site-packages/pdfplumber/page.py:366\u001b[0m, in \u001b[0;36mPage.objects\u001b[0;34m(self)\u001b[0m\n\u001b[1;32m    364\u001b[0m \u001b[38;5;28;01mif\u001b[39;00m \u001b[38;5;28mhasattr\u001b[39m(\u001b[38;5;28mself\u001b[39m, \u001b[38;5;124m\"\u001b[39m\u001b[38;5;124m_objects\u001b[39m\u001b[38;5;124m\"\u001b[39m):\n\u001b[1;32m    365\u001b[0m     \u001b[38;5;28;01mreturn\u001b[39;00m \u001b[38;5;28mself\u001b[39m\u001b[38;5;241m.\u001b[39m_objects\n\u001b[0;32m--> 366\u001b[0m \u001b[38;5;28mself\u001b[39m\u001b[38;5;241m.\u001b[39m_objects: Dict[\u001b[38;5;28mstr\u001b[39m, T_obj_list] \u001b[38;5;241m=\u001b[39m \u001b[38;5;28;43mself\u001b[39;49m\u001b[38;5;241;43m.\u001b[39;49m\u001b[43mparse_objects\u001b[49m\u001b[43m(\u001b[49m\u001b[43m)\u001b[49m\n\u001b[1;32m    367\u001b[0m \u001b[38;5;28;01mreturn\u001b[39;00m \u001b[38;5;28mself\u001b[39m\u001b[38;5;241m.\u001b[39m_objects\n",
      "File \u001b[0;32m/home/zeus/miniconda3/envs/cloudspace/lib/python3.10/site-packages/pdfplumber/page.py:470\u001b[0m, in \u001b[0;36mPage.parse_objects\u001b[0;34m(self)\u001b[0m\n\u001b[1;32m    468\u001b[0m \u001b[38;5;28;01mdef\u001b[39;00m\u001b[38;5;250m \u001b[39m\u001b[38;5;21mparse_objects\u001b[39m(\u001b[38;5;28mself\u001b[39m) \u001b[38;5;241m-\u001b[39m\u001b[38;5;241m>\u001b[39m Dict[\u001b[38;5;28mstr\u001b[39m, T_obj_list]:\n\u001b[1;32m    469\u001b[0m     objects: Dict[\u001b[38;5;28mstr\u001b[39m, T_obj_list] \u001b[38;5;241m=\u001b[39m {}\n\u001b[0;32m--> 470\u001b[0m     \u001b[38;5;28;01mfor\u001b[39;00m obj \u001b[38;5;129;01min\u001b[39;00m \u001b[38;5;28mself\u001b[39m\u001b[38;5;241m.\u001b[39miter_layout_objects(\u001b[38;5;28;43mself\u001b[39;49m\u001b[38;5;241;43m.\u001b[39;49m\u001b[43mlayout\u001b[49m\u001b[38;5;241m.\u001b[39m_objs):\n\u001b[1;32m    471\u001b[0m         kind \u001b[38;5;241m=\u001b[39m obj[\u001b[38;5;124m\"\u001b[39m\u001b[38;5;124mobject_type\u001b[39m\u001b[38;5;124m\"\u001b[39m]\n\u001b[1;32m    472\u001b[0m         \u001b[38;5;28;01mif\u001b[39;00m kind \u001b[38;5;129;01min\u001b[39;00m [\u001b[38;5;124m\"\u001b[39m\u001b[38;5;124manno\u001b[39m\u001b[38;5;124m\"\u001b[39m]:\n",
      "File \u001b[0;32m/home/zeus/miniconda3/envs/cloudspace/lib/python3.10/site-packages/pdfplumber/page.py:286\u001b[0m, in \u001b[0;36mPage.layout\u001b[0;34m(self)\u001b[0m\n\u001b[1;32m    284\u001b[0m interpreter \u001b[38;5;241m=\u001b[39m PDFPageInterpreter(\u001b[38;5;28mself\u001b[39m\u001b[38;5;241m.\u001b[39mpdf\u001b[38;5;241m.\u001b[39mrsrcmgr, device)\n\u001b[1;32m    285\u001b[0m \u001b[38;5;28;01mtry\u001b[39;00m:\n\u001b[0;32m--> 286\u001b[0m     \u001b[43minterpreter\u001b[49m\u001b[38;5;241;43m.\u001b[39;49m\u001b[43mprocess_page\u001b[49m\u001b[43m(\u001b[49m\u001b[38;5;28;43mself\u001b[39;49m\u001b[38;5;241;43m.\u001b[39;49m\u001b[43mpage_obj\u001b[49m\u001b[43m)\u001b[49m\n\u001b[1;32m    287\u001b[0m \u001b[38;5;28;01mexcept\u001b[39;00m \u001b[38;5;167;01mException\u001b[39;00m \u001b[38;5;28;01mas\u001b[39;00m e:\n\u001b[1;32m    288\u001b[0m     \u001b[38;5;28;01mraise\u001b[39;00m PdfminerException(e)\n",
      "File \u001b[0;32m/home/zeus/miniconda3/envs/cloudspace/lib/python3.10/site-packages/pdfminer/pdfinterp.py:971\u001b[0m, in \u001b[0;36mPDFPageInterpreter.process_page\u001b[0;34m(self, page)\u001b[0m\n\u001b[1;32m    969\u001b[0m     ctm \u001b[38;5;241m=\u001b[39m (\u001b[38;5;241m1\u001b[39m, \u001b[38;5;241m0\u001b[39m, \u001b[38;5;241m0\u001b[39m, \u001b[38;5;241m1\u001b[39m, \u001b[38;5;241m-\u001b[39mx0, \u001b[38;5;241m-\u001b[39my0)\n\u001b[1;32m    970\u001b[0m \u001b[38;5;28mself\u001b[39m\u001b[38;5;241m.\u001b[39mdevice\u001b[38;5;241m.\u001b[39mbegin_page(page, ctm)\n\u001b[0;32m--> 971\u001b[0m \u001b[38;5;28;43mself\u001b[39;49m\u001b[38;5;241;43m.\u001b[39;49m\u001b[43mrender_contents\u001b[49m\u001b[43m(\u001b[49m\u001b[43mpage\u001b[49m\u001b[38;5;241;43m.\u001b[39;49m\u001b[43mresources\u001b[49m\u001b[43m,\u001b[49m\u001b[43m \u001b[49m\u001b[43mpage\u001b[49m\u001b[38;5;241;43m.\u001b[39;49m\u001b[43mcontents\u001b[49m\u001b[43m,\u001b[49m\u001b[43m \u001b[49m\u001b[43mctm\u001b[49m\u001b[38;5;241;43m=\u001b[39;49m\u001b[43mctm\u001b[49m\u001b[43m)\u001b[49m\n\u001b[1;32m    972\u001b[0m \u001b[38;5;28mself\u001b[39m\u001b[38;5;241m.\u001b[39mdevice\u001b[38;5;241m.\u001b[39mend_page(page)\n",
      "File \u001b[0;32m/home/zeus/miniconda3/envs/cloudspace/lib/python3.10/site-packages/pdfminer/pdfinterp.py:992\u001b[0m, in \u001b[0;36mPDFPageInterpreter.render_contents\u001b[0;34m(self, resources, streams, ctm)\u001b[0m\n\u001b[1;32m    990\u001b[0m \u001b[38;5;28mself\u001b[39m\u001b[38;5;241m.\u001b[39minit_resources(resources)\n\u001b[1;32m    991\u001b[0m \u001b[38;5;28mself\u001b[39m\u001b[38;5;241m.\u001b[39minit_state(ctm)\n\u001b[0;32m--> 992\u001b[0m \u001b[38;5;28;43mself\u001b[39;49m\u001b[38;5;241;43m.\u001b[39;49m\u001b[43mexecute\u001b[49m\u001b[43m(\u001b[49m\u001b[43mlist_value\u001b[49m\u001b[43m(\u001b[49m\u001b[43mstreams\u001b[49m\u001b[43m)\u001b[49m\u001b[43m)\u001b[49m\n",
      "File \u001b[0;32m/home/zeus/miniconda3/envs/cloudspace/lib/python3.10/site-packages/pdfminer/pdfinterp.py:1018\u001b[0m, in \u001b[0;36mPDFPageInterpreter.execute\u001b[0;34m(self, streams)\u001b[0m\n\u001b[1;32m   1016\u001b[0m     log\u001b[38;5;241m.\u001b[39mdebug(\u001b[38;5;124m\"\u001b[39m\u001b[38;5;124mexec: \u001b[39m\u001b[38;5;132;01m%s\u001b[39;00m\u001b[38;5;124m \u001b[39m\u001b[38;5;132;01m%r\u001b[39;00m\u001b[38;5;124m\"\u001b[39m, name, args)\n\u001b[1;32m   1017\u001b[0m     \u001b[38;5;28;01mif\u001b[39;00m \u001b[38;5;28mlen\u001b[39m(args) \u001b[38;5;241m==\u001b[39m nargs:\n\u001b[0;32m-> 1018\u001b[0m         \u001b[43mfunc\u001b[49m\u001b[43m(\u001b[49m\u001b[38;5;241;43m*\u001b[39;49m\u001b[43margs\u001b[49m\u001b[43m)\u001b[49m\n\u001b[1;32m   1019\u001b[0m \u001b[38;5;28;01melse\u001b[39;00m:\n\u001b[1;32m   1020\u001b[0m     log\u001b[38;5;241m.\u001b[39mdebug(\u001b[38;5;124m\"\u001b[39m\u001b[38;5;124mexec: \u001b[39m\u001b[38;5;132;01m%s\u001b[39;00m\u001b[38;5;124m\"\u001b[39m, name)\n",
      "File \u001b[0;32m/home/zeus/miniconda3/envs/cloudspace/lib/python3.10/site-packages/pdfminer/pdfinterp.py:945\u001b[0m, in \u001b[0;36mPDFPageInterpreter.do_Do\u001b[0;34m(self, xobjid_arg)\u001b[0m\n\u001b[1;32m    943\u001b[0m         resources \u001b[38;5;241m=\u001b[39m \u001b[38;5;28mself\u001b[39m\u001b[38;5;241m.\u001b[39mresources\u001b[38;5;241m.\u001b[39mcopy()\n\u001b[1;32m    944\u001b[0m     \u001b[38;5;28mself\u001b[39m\u001b[38;5;241m.\u001b[39mdevice\u001b[38;5;241m.\u001b[39mbegin_figure(xobjid, bbox, matrix)\n\u001b[0;32m--> 945\u001b[0m     \u001b[43minterpreter\u001b[49m\u001b[38;5;241;43m.\u001b[39;49m\u001b[43mrender_contents\u001b[49m\u001b[43m(\u001b[49m\n\u001b[1;32m    946\u001b[0m \u001b[43m        \u001b[49m\u001b[43mresources\u001b[49m\u001b[43m,\u001b[49m\n\u001b[1;32m    947\u001b[0m \u001b[43m        \u001b[49m\u001b[43m[\u001b[49m\u001b[43mxobj\u001b[49m\u001b[43m]\u001b[49m\u001b[43m,\u001b[49m\n\u001b[1;32m    948\u001b[0m \u001b[43m        \u001b[49m\u001b[43mctm\u001b[49m\u001b[38;5;241;43m=\u001b[39;49m\u001b[43mmult_matrix\u001b[49m\u001b[43m(\u001b[49m\u001b[43mmatrix\u001b[49m\u001b[43m,\u001b[49m\u001b[43m \u001b[49m\u001b[38;5;28;43mself\u001b[39;49m\u001b[38;5;241;43m.\u001b[39;49m\u001b[43mctm\u001b[49m\u001b[43m)\u001b[49m\u001b[43m,\u001b[49m\n\u001b[1;32m    949\u001b[0m \u001b[43m    \u001b[49m\u001b[43m)\u001b[49m\n\u001b[1;32m    950\u001b[0m     \u001b[38;5;28mself\u001b[39m\u001b[38;5;241m.\u001b[39mdevice\u001b[38;5;241m.\u001b[39mend_figure(xobjid)\n\u001b[1;32m    951\u001b[0m \u001b[38;5;28;01melif\u001b[39;00m subtype \u001b[38;5;129;01mis\u001b[39;00m LITERAL_IMAGE \u001b[38;5;129;01mand\u001b[39;00m \u001b[38;5;124m\"\u001b[39m\u001b[38;5;124mWidth\u001b[39m\u001b[38;5;124m\"\u001b[39m \u001b[38;5;129;01min\u001b[39;00m xobj \u001b[38;5;129;01mand\u001b[39;00m \u001b[38;5;124m\"\u001b[39m\u001b[38;5;124mHeight\u001b[39m\u001b[38;5;124m\"\u001b[39m \u001b[38;5;129;01min\u001b[39;00m xobj:\n",
      "File \u001b[0;32m/home/zeus/miniconda3/envs/cloudspace/lib/python3.10/site-packages/pdfminer/pdfinterp.py:992\u001b[0m, in \u001b[0;36mPDFPageInterpreter.render_contents\u001b[0;34m(self, resources, streams, ctm)\u001b[0m\n\u001b[1;32m    990\u001b[0m \u001b[38;5;28mself\u001b[39m\u001b[38;5;241m.\u001b[39minit_resources(resources)\n\u001b[1;32m    991\u001b[0m \u001b[38;5;28mself\u001b[39m\u001b[38;5;241m.\u001b[39minit_state(ctm)\n\u001b[0;32m--> 992\u001b[0m \u001b[38;5;28;43mself\u001b[39;49m\u001b[38;5;241;43m.\u001b[39;49m\u001b[43mexecute\u001b[49m\u001b[43m(\u001b[49m\u001b[43mlist_value\u001b[49m\u001b[43m(\u001b[49m\u001b[43mstreams\u001b[49m\u001b[43m)\u001b[49m\u001b[43m)\u001b[49m\n",
      "File \u001b[0;32m/home/zeus/miniconda3/envs/cloudspace/lib/python3.10/site-packages/pdfminer/pdfinterp.py:1021\u001b[0m, in \u001b[0;36mPDFPageInterpreter.execute\u001b[0;34m(self, streams)\u001b[0m\n\u001b[1;32m   1019\u001b[0m     \u001b[38;5;28;01melse\u001b[39;00m:\n\u001b[1;32m   1020\u001b[0m         log\u001b[38;5;241m.\u001b[39mdebug(\u001b[38;5;124m\"\u001b[39m\u001b[38;5;124mexec: \u001b[39m\u001b[38;5;132;01m%s\u001b[39;00m\u001b[38;5;124m\"\u001b[39m, name)\n\u001b[0;32m-> 1021\u001b[0m         \u001b[43mfunc\u001b[49m\u001b[43m(\u001b[49m\u001b[43m)\u001b[49m\n\u001b[1;32m   1022\u001b[0m \u001b[38;5;28;01melif\u001b[39;00m settings\u001b[38;5;241m.\u001b[39mSTRICT:\n\u001b[1;32m   1023\u001b[0m     error_msg \u001b[38;5;241m=\u001b[39m \u001b[38;5;124m\"\u001b[39m\u001b[38;5;124mUnknown operator: \u001b[39m\u001b[38;5;132;01m%r\u001b[39;00m\u001b[38;5;124m\"\u001b[39m \u001b[38;5;241m%\u001b[39m name\n",
      "File \u001b[0;32m/home/zeus/miniconda3/envs/cloudspace/lib/python3.10/site-packages/pdfminer/pdfinterp.py:576\u001b[0m, in \u001b[0;36mPDFPageInterpreter.do_f\u001b[0;34m(self)\u001b[0m\n\u001b[1;32m    574\u001b[0m \u001b[38;5;28;01mdef\u001b[39;00m\u001b[38;5;250m \u001b[39m\u001b[38;5;21mdo_f\u001b[39m(\u001b[38;5;28mself\u001b[39m) \u001b[38;5;241m-\u001b[39m\u001b[38;5;241m>\u001b[39m \u001b[38;5;28;01mNone\u001b[39;00m:\n\u001b[1;32m    575\u001b[0m \u001b[38;5;250m    \u001b[39m\u001b[38;5;124;03m\"\"\"Fill path using nonzero winding number rule\"\"\"\u001b[39;00m\n\u001b[0;32m--> 576\u001b[0m     \u001b[38;5;28;43mself\u001b[39;49m\u001b[38;5;241;43m.\u001b[39;49m\u001b[43mdevice\u001b[49m\u001b[38;5;241;43m.\u001b[39;49m\u001b[43mpaint_path\u001b[49m\u001b[43m(\u001b[49m\u001b[38;5;28;43mself\u001b[39;49m\u001b[38;5;241;43m.\u001b[39;49m\u001b[43mgraphicstate\u001b[49m\u001b[43m,\u001b[49m\u001b[43m \u001b[49m\u001b[38;5;28;43;01mFalse\u001b[39;49;00m\u001b[43m,\u001b[49m\u001b[43m \u001b[49m\u001b[38;5;28;43;01mTrue\u001b[39;49;00m\u001b[43m,\u001b[49m\u001b[43m \u001b[49m\u001b[38;5;28;43;01mFalse\u001b[39;49;00m\u001b[43m,\u001b[49m\u001b[43m \u001b[49m\u001b[38;5;28;43mself\u001b[39;49m\u001b[38;5;241;43m.\u001b[39;49m\u001b[43mcurpath\u001b[49m\u001b[43m)\u001b[49m\n\u001b[1;32m    577\u001b[0m     \u001b[38;5;28mself\u001b[39m\u001b[38;5;241m.\u001b[39mcurpath \u001b[38;5;241m=\u001b[39m []\n",
      "File \u001b[0;32m/home/zeus/miniconda3/envs/cloudspace/lib/python3.10/site-packages/pdfplumber/page.py:180\u001b[0m, in \u001b[0;36mPDFPageAggregatorWithMarkedContent.paint_path\u001b[0;34m(self, *args, **kwargs)\u001b[0m\n\u001b[1;32m    178\u001b[0m \u001b[38;5;28;01mdef\u001b[39;00m\u001b[38;5;250m \u001b[39m\u001b[38;5;21mpaint_path\u001b[39m(\u001b[38;5;28mself\u001b[39m, \u001b[38;5;241m*\u001b[39margs, \u001b[38;5;241m*\u001b[39m\u001b[38;5;241m*\u001b[39mkwargs) \u001b[38;5;241m-\u001b[39m\u001b[38;5;241m>\u001b[39m \u001b[38;5;28;01mNone\u001b[39;00m:  \u001b[38;5;66;03m# type: ignore\u001b[39;00m\n\u001b[1;32m    179\u001b[0m \u001b[38;5;250m    \u001b[39m\u001b[38;5;124;03m\"\"\"Hook for rendering lines and curves, adding the `mcid` attribute.\"\"\"\u001b[39;00m\n\u001b[0;32m--> 180\u001b[0m     \u001b[38;5;28;43msuper\u001b[39;49m\u001b[43m(\u001b[49m\u001b[43m)\u001b[49m\u001b[38;5;241;43m.\u001b[39;49m\u001b[43mpaint_path\u001b[49m\u001b[43m(\u001b[49m\u001b[38;5;241;43m*\u001b[39;49m\u001b[43margs\u001b[49m\u001b[43m,\u001b[49m\u001b[43m \u001b[49m\u001b[38;5;241;43m*\u001b[39;49m\u001b[38;5;241;43m*\u001b[39;49m\u001b[43mkwargs\u001b[49m\u001b[43m)\u001b[49m\n\u001b[1;32m    181\u001b[0m     \u001b[38;5;28mself\u001b[39m\u001b[38;5;241m.\u001b[39mtag_cur_item()\n",
      "File \u001b[0;32m/home/zeus/miniconda3/envs/cloudspace/lib/python3.10/site-packages/pdfminer/converter.py:137\u001b[0m, in \u001b[0;36mPDFLayoutAnalyzer.paint_path\u001b[0;34m(self, gstate, stroke, fill, evenodd, path)\u001b[0m\n\u001b[1;32m    135\u001b[0m     \u001b[38;5;28;01mfor\u001b[39;00m m \u001b[38;5;129;01min\u001b[39;00m re\u001b[38;5;241m.\u001b[39mfinditer(\u001b[38;5;124mr\u001b[39m\u001b[38;5;124m\"\u001b[39m\u001b[38;5;124mm[^m]+\u001b[39m\u001b[38;5;124m\"\u001b[39m, shape):\n\u001b[1;32m    136\u001b[0m         subpath \u001b[38;5;241m=\u001b[39m path[m\u001b[38;5;241m.\u001b[39mstart(\u001b[38;5;241m0\u001b[39m) : m\u001b[38;5;241m.\u001b[39mend(\u001b[38;5;241m0\u001b[39m)]\n\u001b[0;32m--> 137\u001b[0m         \u001b[38;5;28;43mself\u001b[39;49m\u001b[38;5;241;43m.\u001b[39;49m\u001b[43mpaint_path\u001b[49m\u001b[43m(\u001b[49m\u001b[43mgstate\u001b[49m\u001b[43m,\u001b[49m\u001b[43m \u001b[49m\u001b[43mstroke\u001b[49m\u001b[43m,\u001b[49m\u001b[43m \u001b[49m\u001b[43mfill\u001b[49m\u001b[43m,\u001b[49m\u001b[43m \u001b[49m\u001b[43mevenodd\u001b[49m\u001b[43m,\u001b[49m\u001b[43m \u001b[49m\u001b[43msubpath\u001b[49m\u001b[43m)\u001b[49m\n\u001b[1;32m    139\u001b[0m \u001b[38;5;28;01melse\u001b[39;00m:\n\u001b[1;32m    140\u001b[0m     \u001b[38;5;66;03m# Although the 'h' command does not not literally provide a\u001b[39;00m\n\u001b[1;32m    141\u001b[0m     \u001b[38;5;66;03m# point-position, its position is (by definition) equal to the\u001b[39;00m\n\u001b[0;32m   (...)\u001b[0m\n\u001b[1;32m    145\u001b[0m     \u001b[38;5;66;03m# their point-position in their final two arguments. (Any preceding\u001b[39;00m\n\u001b[1;32m    146\u001b[0m     \u001b[38;5;66;03m# arguments represent control points on Bézier curves.)\u001b[39;00m\n\u001b[1;32m    147\u001b[0m     raw_pts \u001b[38;5;241m=\u001b[39m [\n\u001b[1;32m    148\u001b[0m         cast(Point, p[\u001b[38;5;241m-\u001b[39m\u001b[38;5;241m2\u001b[39m:] \u001b[38;5;28;01mif\u001b[39;00m p[\u001b[38;5;241m0\u001b[39m] \u001b[38;5;241m!=\u001b[39m \u001b[38;5;124m\"\u001b[39m\u001b[38;5;124mh\u001b[39m\u001b[38;5;124m\"\u001b[39m \u001b[38;5;28;01melse\u001b[39;00m path[\u001b[38;5;241m0\u001b[39m][\u001b[38;5;241m-\u001b[39m\u001b[38;5;241m2\u001b[39m:]) \u001b[38;5;28;01mfor\u001b[39;00m p \u001b[38;5;129;01min\u001b[39;00m path\n\u001b[1;32m    149\u001b[0m     ]\n",
      "File \u001b[0;32m/home/zeus/miniconda3/envs/cloudspace/lib/python3.10/site-packages/pdfplumber/page.py:180\u001b[0m, in \u001b[0;36mPDFPageAggregatorWithMarkedContent.paint_path\u001b[0;34m(self, *args, **kwargs)\u001b[0m\n\u001b[1;32m    178\u001b[0m \u001b[38;5;28;01mdef\u001b[39;00m\u001b[38;5;250m \u001b[39m\u001b[38;5;21mpaint_path\u001b[39m(\u001b[38;5;28mself\u001b[39m, \u001b[38;5;241m*\u001b[39margs, \u001b[38;5;241m*\u001b[39m\u001b[38;5;241m*\u001b[39mkwargs) \u001b[38;5;241m-\u001b[39m\u001b[38;5;241m>\u001b[39m \u001b[38;5;28;01mNone\u001b[39;00m:  \u001b[38;5;66;03m# type: ignore\u001b[39;00m\n\u001b[1;32m    179\u001b[0m \u001b[38;5;250m    \u001b[39m\u001b[38;5;124;03m\"\"\"Hook for rendering lines and curves, adding the `mcid` attribute.\"\"\"\u001b[39;00m\n\u001b[0;32m--> 180\u001b[0m     \u001b[38;5;28;43msuper\u001b[39;49m\u001b[43m(\u001b[49m\u001b[43m)\u001b[49m\u001b[38;5;241;43m.\u001b[39;49m\u001b[43mpaint_path\u001b[49m\u001b[43m(\u001b[49m\u001b[38;5;241;43m*\u001b[39;49m\u001b[43margs\u001b[49m\u001b[43m,\u001b[49m\u001b[43m \u001b[49m\u001b[38;5;241;43m*\u001b[39;49m\u001b[38;5;241;43m*\u001b[39;49m\u001b[43mkwargs\u001b[49m\u001b[43m)\u001b[49m\n\u001b[1;32m    181\u001b[0m     \u001b[38;5;28mself\u001b[39m\u001b[38;5;241m.\u001b[39mtag_cur_item()\n",
      "File \u001b[0;32m/home/zeus/miniconda3/envs/cloudspace/lib/python3.10/site-packages/pdfminer/converter.py:153\u001b[0m, in \u001b[0;36mPDFLayoutAnalyzer.paint_path\u001b[0;34m(self, gstate, stroke, fill, evenodd, path)\u001b[0m\n\u001b[1;32m    150\u001b[0m pts \u001b[38;5;241m=\u001b[39m [apply_matrix_pt(\u001b[38;5;28mself\u001b[39m\u001b[38;5;241m.\u001b[39mctm, pt) \u001b[38;5;28;01mfor\u001b[39;00m pt \u001b[38;5;129;01min\u001b[39;00m raw_pts]\n\u001b[1;32m    152\u001b[0m operators \u001b[38;5;241m=\u001b[39m [\u001b[38;5;28mstr\u001b[39m(operation[\u001b[38;5;241m0\u001b[39m]) \u001b[38;5;28;01mfor\u001b[39;00m operation \u001b[38;5;129;01min\u001b[39;00m path]\n\u001b[0;32m--> 153\u001b[0m transformed_points \u001b[38;5;241m=\u001b[39m [\n\u001b[1;32m    154\u001b[0m     [\n\u001b[1;32m    155\u001b[0m         apply_matrix_pt(\u001b[38;5;28mself\u001b[39m\u001b[38;5;241m.\u001b[39mctm, (\u001b[38;5;28mfloat\u001b[39m(operand1), \u001b[38;5;28mfloat\u001b[39m(operand2)))\n\u001b[1;32m    156\u001b[0m         \u001b[38;5;28;01mfor\u001b[39;00m operand1, operand2 \u001b[38;5;129;01min\u001b[39;00m \u001b[38;5;28mzip\u001b[39m(operation[\u001b[38;5;241m1\u001b[39m::\u001b[38;5;241m2\u001b[39m], operation[\u001b[38;5;241m2\u001b[39m::\u001b[38;5;241m2\u001b[39m])\n\u001b[1;32m    157\u001b[0m     ]\n\u001b[1;32m    158\u001b[0m     \u001b[38;5;28;01mfor\u001b[39;00m operation \u001b[38;5;129;01min\u001b[39;00m path\n\u001b[1;32m    159\u001b[0m ]\n\u001b[1;32m    160\u001b[0m transformed_path \u001b[38;5;241m=\u001b[39m [\n\u001b[1;32m    161\u001b[0m     cast(PathSegment, (o, \u001b[38;5;241m*\u001b[39mp))\n\u001b[1;32m    162\u001b[0m     \u001b[38;5;28;01mfor\u001b[39;00m o, p \u001b[38;5;129;01min\u001b[39;00m \u001b[38;5;28mzip\u001b[39m(operators, transformed_points)\n\u001b[1;32m    163\u001b[0m ]\n\u001b[1;32m    165\u001b[0m \u001b[38;5;66;03m# Drop a redundant \"l\" on a path closed with \"h\"\u001b[39;00m\n",
      "File \u001b[0;32m/home/zeus/miniconda3/envs/cloudspace/lib/python3.10/site-packages/pdfminer/converter.py:154\u001b[0m, in \u001b[0;36m<listcomp>\u001b[0;34m(.0)\u001b[0m\n\u001b[1;32m    150\u001b[0m pts \u001b[38;5;241m=\u001b[39m [apply_matrix_pt(\u001b[38;5;28mself\u001b[39m\u001b[38;5;241m.\u001b[39mctm, pt) \u001b[38;5;28;01mfor\u001b[39;00m pt \u001b[38;5;129;01min\u001b[39;00m raw_pts]\n\u001b[1;32m    152\u001b[0m operators \u001b[38;5;241m=\u001b[39m [\u001b[38;5;28mstr\u001b[39m(operation[\u001b[38;5;241m0\u001b[39m]) \u001b[38;5;28;01mfor\u001b[39;00m operation \u001b[38;5;129;01min\u001b[39;00m path]\n\u001b[1;32m    153\u001b[0m transformed_points \u001b[38;5;241m=\u001b[39m [\n\u001b[0;32m--> 154\u001b[0m     [\n\u001b[1;32m    155\u001b[0m         apply_matrix_pt(\u001b[38;5;28mself\u001b[39m\u001b[38;5;241m.\u001b[39mctm, (\u001b[38;5;28mfloat\u001b[39m(operand1), \u001b[38;5;28mfloat\u001b[39m(operand2)))\n\u001b[1;32m    156\u001b[0m         \u001b[38;5;28;01mfor\u001b[39;00m operand1, operand2 \u001b[38;5;129;01min\u001b[39;00m \u001b[38;5;28mzip\u001b[39m(operation[\u001b[38;5;241m1\u001b[39m::\u001b[38;5;241m2\u001b[39m], operation[\u001b[38;5;241m2\u001b[39m::\u001b[38;5;241m2\u001b[39m])\n\u001b[1;32m    157\u001b[0m     ]\n\u001b[1;32m    158\u001b[0m     \u001b[38;5;28;01mfor\u001b[39;00m operation \u001b[38;5;129;01min\u001b[39;00m path\n\u001b[1;32m    159\u001b[0m ]\n\u001b[1;32m    160\u001b[0m transformed_path \u001b[38;5;241m=\u001b[39m [\n\u001b[1;32m    161\u001b[0m     cast(PathSegment, (o, \u001b[38;5;241m*\u001b[39mp))\n\u001b[1;32m    162\u001b[0m     \u001b[38;5;28;01mfor\u001b[39;00m o, p \u001b[38;5;129;01min\u001b[39;00m \u001b[38;5;28mzip\u001b[39m(operators, transformed_points)\n\u001b[1;32m    163\u001b[0m ]\n\u001b[1;32m    165\u001b[0m \u001b[38;5;66;03m# Drop a redundant \"l\" on a path closed with \"h\"\u001b[39;00m\n",
      "File \u001b[0;32m/home/zeus/miniconda3/envs/cloudspace/lib/python3.10/site-packages/pdfminer/converter.py:155\u001b[0m, in \u001b[0;36m<listcomp>\u001b[0;34m(.0)\u001b[0m\n\u001b[1;32m    150\u001b[0m pts \u001b[38;5;241m=\u001b[39m [apply_matrix_pt(\u001b[38;5;28mself\u001b[39m\u001b[38;5;241m.\u001b[39mctm, pt) \u001b[38;5;28;01mfor\u001b[39;00m pt \u001b[38;5;129;01min\u001b[39;00m raw_pts]\n\u001b[1;32m    152\u001b[0m operators \u001b[38;5;241m=\u001b[39m [\u001b[38;5;28mstr\u001b[39m(operation[\u001b[38;5;241m0\u001b[39m]) \u001b[38;5;28;01mfor\u001b[39;00m operation \u001b[38;5;129;01min\u001b[39;00m path]\n\u001b[1;32m    153\u001b[0m transformed_points \u001b[38;5;241m=\u001b[39m [\n\u001b[1;32m    154\u001b[0m     [\n\u001b[0;32m--> 155\u001b[0m         \u001b[43mapply_matrix_pt\u001b[49m\u001b[43m(\u001b[49m\u001b[38;5;28;43mself\u001b[39;49m\u001b[38;5;241;43m.\u001b[39;49m\u001b[43mctm\u001b[49m\u001b[43m,\u001b[49m\u001b[43m \u001b[49m\u001b[43m(\u001b[49m\u001b[38;5;28;43mfloat\u001b[39;49m\u001b[43m(\u001b[49m\u001b[43moperand1\u001b[49m\u001b[43m)\u001b[49m\u001b[43m,\u001b[49m\u001b[43m \u001b[49m\u001b[38;5;28;43mfloat\u001b[39;49m\u001b[43m(\u001b[49m\u001b[43moperand2\u001b[49m\u001b[43m)\u001b[49m\u001b[43m)\u001b[49m\u001b[43m)\u001b[49m\n\u001b[1;32m    156\u001b[0m         \u001b[38;5;28;01mfor\u001b[39;00m operand1, operand2 \u001b[38;5;129;01min\u001b[39;00m \u001b[38;5;28mzip\u001b[39m(operation[\u001b[38;5;241m1\u001b[39m::\u001b[38;5;241m2\u001b[39m], operation[\u001b[38;5;241m2\u001b[39m::\u001b[38;5;241m2\u001b[39m])\n\u001b[1;32m    157\u001b[0m     ]\n\u001b[1;32m    158\u001b[0m     \u001b[38;5;28;01mfor\u001b[39;00m operation \u001b[38;5;129;01min\u001b[39;00m path\n\u001b[1;32m    159\u001b[0m ]\n\u001b[1;32m    160\u001b[0m transformed_path \u001b[38;5;241m=\u001b[39m [\n\u001b[1;32m    161\u001b[0m     cast(PathSegment, (o, \u001b[38;5;241m*\u001b[39mp))\n\u001b[1;32m    162\u001b[0m     \u001b[38;5;28;01mfor\u001b[39;00m o, p \u001b[38;5;129;01min\u001b[39;00m \u001b[38;5;28mzip\u001b[39m(operators, transformed_points)\n\u001b[1;32m    163\u001b[0m ]\n\u001b[1;32m    165\u001b[0m \u001b[38;5;66;03m# Drop a redundant \"l\" on a path closed with \"h\"\u001b[39;00m\n",
      "\u001b[0;31mKeyboardInterrupt\u001b[0m: "
     ]
    }
   ],
   "source": [
    "# Process all PDFs smartly in /data\n",
    "data_dir = \"data\"\n",
    "for file in os.listdir(data_dir):\n",
    "    if file.endswith(\".pdf\"):\n",
    "        pdf_path = os.path.join(data_dir, file)\n",
    "        chunk_path = os.path.splitext(file)[0] + \".json\"\n",
    "\n",
    "        print(f\"Processing: {pdf_path}\")\n",
    "\n",
    "        text = read_pdf_smart(pdf_path)\n",
    "        chunks = chunk_text_modelsized(text, \"sentence-transformers/all-MiniLM-L6-v2\", 112, 22)\n",
    "        \n",
    "        save_chunks_to_json(chunks, chunk_path)"
   ]
  },
  {
   "cell_type": "markdown",
   "metadata": {},
   "source": [
    "# Tokenize and Index"
   ]
  },
  {
   "cell_type": "code",
   "execution_count": 90,
   "metadata": {},
   "outputs": [],
   "source": [
    "def load_chunks_from_folder(folder_path):\n",
    "    all_texts = []\n",
    "    for filename in os.listdir(folder_path):\n",
    "        if filename.endswith('.json'):\n",
    "            with open(os.path.join(folder_path, filename), 'r', encoding='utf-8') as f:\n",
    "                data = json.load(f)\n",
    "                all_texts.extend([item['text'] for item in data])\n",
    "    return all_texts"
   ]
  },
  {
   "cell_type": "code",
   "execution_count": 92,
   "metadata": {},
   "outputs": [],
   "source": [
    "def embed_and_index(chunks, model_name=\"sentence-transformers/all-MiniLM-L6-v2\", batch_size=32):\n",
    "    model = SentenceTransformer(model_name)\n",
    "    embeddings = model.encode(chunks, batch_size=batch_size, show_progress_bar=True, convert_to_numpy=True)\n",
    "    \n",
    "    dimension = embeddings.shape[1]\n",
    "    index = faiss.IndexFlatL2(dimension)\n",
    "    index.add(embeddings)\n",
    "    \n",
    "    return index, chunks"
   ]
  },
  {
   "cell_type": "code",
   "execution_count": 109,
   "metadata": {},
   "outputs": [
    {
     "name": "stdout",
     "output_type": "stream",
     "text": [
      "Loaded 1152 documents.\n",
      "Split into 1152 token-aware chunks.\n"
     ]
    },
    {
     "data": {
      "application/vnd.jupyter.widget-view+json": {
       "model_id": "b0721863a33849ae808e5bcb1264cf72",
       "version_major": 2,
       "version_minor": 0
      },
      "text/plain": [
       "Batches:   0%|          | 0/36 [00:00<?, ?it/s]"
      ]
     },
     "metadata": {},
     "output_type": "display_data"
    },
    {
     "name": "stdout",
     "output_type": "stream",
     "text": [
      "FAISS index built.\n"
     ]
    }
   ],
   "source": [
    "folder_path = \"chunks/\"\n",
    "texts = load_chunks_from_folder(folder_path)\n",
    "print(f\"Loaded {len(texts)} documents.\")\n",
    "\n",
    "index, chunk_lookup = embed_and_index(split_chunks)\n",
    "print(\"FAISS index built.\")"
   ]
  },
  {
   "cell_type": "code",
   "execution_count": 114,
   "metadata": {},
   "outputs": [],
   "source": [
    "faiss.write_index(index, \"index/my_index.faiss\")\n",
    "with open(\"index/chunk_lookup.json\", \"w\") as f:\n",
    "    json.dump(chunk_lookup, f)"
   ]
  },
  {
   "cell_type": "markdown",
   "metadata": {},
   "source": [
    "# Retrieval"
   ]
  },
  {
   "cell_type": "code",
   "execution_count": 94,
   "metadata": {},
   "outputs": [],
   "source": [
    "def search_faiss(query, k=3):\n",
    "    query_embedding = model.encode([query], convert_to_numpy=True)\n",
    "    distances, indices = index.search(query_embedding, k)\n",
    "    \n",
    "    print(f\"\\nTop {k} results for: \\\"{query}\\\"\\n\")\n",
    "    for rank, (idx, dist) in enumerate(zip(indices[0], distances[0]), start=1):\n",
    "        print(f\"Result #{rank} (Distance: {dist:.4f})\")\n",
    "        print(chunk_lookup[idx])\n",
    "        print(\"-\" * 80)"
   ]
  },
  {
   "cell_type": "code",
   "execution_count": 115,
   "metadata": {},
   "outputs": [
    {
     "name": "stdout",
     "output_type": "stream",
     "text": [
      "\n",
      "Top 2 results for: \"How do you acquire resources during the game?\"\n",
      "\n",
      "Result #1 (Distance: 0.7889)\n",
      "with the game board laid out randomly. the board changes each game. sort the resource cards into 5 stacks and put them face up if you would like to use the variable set - up, you can find the next to the game board. illustration b guidelines in the almanac under set - up, variable y. also look shuffle the development for useful tips under set - up phase y and tactics y. cards and place them face down by the board. s u g etting p the ame you receive resources y select a color and take your 5 settlements\n",
      "--------------------------------------------------------------------------------\n",
      "Result #2 (Distance: 0.8880)\n",
      "there are not this type that they have in their hands. if an enough resource cards to give every player all the production opponent does not have a resource card of they earn, then no player receives any of that resource that turn. the specified type, they do not have to give exception : if the shortage of resource cards only affects a you anything. single player, give that player as many of these resources as are you may play only 1 development card y during left in the supply, and any extras are lost. in either case, your turn. production of\n",
      "--------------------------------------------------------------------------------\n",
      "\n",
      "Top 2 results for: \"How do you get the Longest Road special card and what happens if another player builds a longer road?\"\n",
      "\n",
      "Result #1 (Distance: 0.4236)\n",
      "“ longest road ” card comes into play again when only 1 player has the longest road ( of at least 5 road pieces ). 99 hbmg natac 5102 © © 2015 catan gmbh © 2015 catan gmbh © 2015 catan gmbh hbmg natac 5102 © longest road 2 victory points! this card goes to the player with the longest road of at least 5 segments. another player who builds a longer : road takes this card. aa cc bb nn rr n t r c ( r ) umber okens esource\n",
      "--------------------------------------------------------------------------------\n",
      "Result #2 (Distance: 0.5732)\n",
      "the “ longest road ” card ( if not claimed, the player with more roads than any other player ) may take 1 resource card from any player. you may not take a development card. c & k : you may not take a progress card. hbmg natac 5102 © 66 • • • • • the settlers labor. catan prospers! hbmg natac 5102 © new year 1. shuffl e all the event cards ( except this one ). 2. put 5 event cards face down and place this card\n",
      "--------------------------------------------------------------------------------\n",
      "\n",
      "Top 2 results for: \"What do you need to play a Seafarers 5-6 Player scenario?\"\n",
      "\n",
      "Result #1 (Distance: 0.6143)\n",
      "shuffle them face down in a pile. randomly select the harbor tokens, one at a time, and place them on the board where the scenario diagram indicates. new rules for 5 - 6 players the paired player rules are explained in catan 5 - 6. this chart shows the updated actions specific to seafarers 5 - 6. player 1 player 2 roll for production ( mandatory ) trade with other players and the supply trade with the supply only build build seafarers scenario - specific actions seafarers scenario - specific actions 33 scenarios each scenario is presented in\n",
      "--------------------------------------------------------------------------------\n",
      "Result #2 (Distance: 0.6447)\n",
      "build seafarers scenario - specific actions seafarers scenario - specific actions 33 scenarios each scenario is presented in this format : name of scenario 1. components these tables show how many of each component you need to play the scenario. 2. preparation if the scenario has any special instructions for preparing the game, they are explained in this section. 3. additional rules any additional rules for the scenario are described here. 4. variable set - up this section provides advice on how to vary the standard set - up. scenario diagram the scenario diagram provides the board set -\n",
      "--------------------------------------------------------------------------------\n",
      "\n",
      "Top 2 results for: \"How should you assemble the game board for a Seafarers scenario?\"\n",
      "\n",
      "Result #1 (Distance: 0.5241)\n",
      "from a copy of catan, seafarers, and catan 5 - 6. each scenario includes a scenario diagram and a table listing all the specific components you need to play that scenario. assembling the board before you can start a scenario, you must first construct the board. each scenario in this book includes a scenario diagram that shows how the board should be built. assemble the frame as shown in the image on the right as well as the individual scenario diagrams. after you build the frame, place the hexagonal tiles ( hexes ).\n",
      "--------------------------------------------------------------------------------\n",
      "Result #2 (Distance: 0.5461)\n",
      "of each component you need to play the scenario. i i! mportant nformation 2. preparation it is easy to assemble the frame when you insert the if the scenario has any special instructions for preparing catan frame pieces from above, placing them down into the game, they are explained in this section. unless stated the seafarers frame pieces! otherwise, the harbor tokens used in each scenario are shuffled if you proceed the other way around, you ’ ll need with their blank sides face up and then placed randomly face more force. this may\n",
      "--------------------------------------------------------------------------------\n",
      "\n",
      "Top 2 results for: \"What happens when the barbarian ship reaches Catan?\"\n",
      "\n",
      "Result #1 (Distance: 0.6407)\n",
      ", if you roll catan. the ship follows the track on the a “ 7 ”, all players must check if barbarian tile. the ship begins its journey on the they are holding too many cards space illustrated with the ship. the barbarians as usual ; however, you do not attack when the ship reaches the last space. ( see “ attack move the robber from the desert of the barbarians ” on page 11. ) and you do not steal a card from • if one of the three city gate symbols ( blue, green, or another player. further,\n",
      "--------------------------------------------------------------------------------\n",
      "Result #2 (Distance: 0.7110)\n",
      "city wall, the city are turned so that their inactive ( black & white ) side faces up. wall is destroyed and removed from the board. starting with the next player ’ s turn, the barbarians will begin a new journey to the rich island of catan. 1111 hbmg natac 0202 © defender of catan victory point card ( back & front ) losing your last city if you are unfortunate enough to have your last city pillaged by the barbarians, you are allowed to keep any city improvements that you may have built before the attack\n",
      "--------------------------------------------------------------------------------\n",
      "\n",
      "Top 2 results for: \"How are knights used in the game, and what actions can they perform?\"\n",
      "\n",
      "Result #1 (Distance: 0.7181)\n",
      "inactive ). your active knights to an intersection that then red must pay one grain to activate her knight. on a illustration o is occupied by one of future turn, she could then use this knight to chase away the your opponent ’ s knights. this is called “ displacing ” a knight. you robber. may only displace a knight if it is weaker than the knight that a you are moving. thus, a strong knight can only displace a basic ttack of the aa knight, and a mighty knight may displace a\n",
      "--------------------------------------------------------------------------------\n",
      "Result #2 (Distance: 0.7577)\n",
      "allows you to take a basic knight ( open traded at any time. helmet / one ring ) and place it on the board. newly placed knights all of the basic rules for building remain in effect. the cost are always placed with the inactive side up. you may place your of roads, settlements, and cities remain unchanged. there are, knight on any unoccupied intersection connected to your roads. however, 2 new items that you may elect to build during your there are 2 special purchases you can make once you have a turn. also, you may\n",
      "--------------------------------------------------------------------------------\n"
     ]
    }
   ],
   "source": [
    "model_name = \"sentence-transformers/all-MiniLM-L6-v2\"\n",
    "model = SentenceTransformer(model_name)\n",
    "\n",
    "query = \"How do you acquire resources during the game?\" # Answer in catan_base_3to4p.pdf at page 11 (you gotta dice the numbers where your settlements are)\n",
    "search_faiss(query, k=2)\n",
    "\n",
    "query = \"How do you get the Longest Road special card and what happens if another player builds a longer road?\" # Answer in catan_base_3to4p.pdf at page 5 (5 continoous reoad segments (and longest))\n",
    "search_faiss(query, k=2)\n",
    "\n",
    "query = \"What do you need to play a Seafarers 5-6 Player scenario?\" # Answer in catan_seafarers_5to6p.pdf at page 2 (you need Catan & Catan 5&6p, and seafarers game)\n",
    "search_faiss(query, k=2)\n",
    "\n",
    "query = \"How should you assemble the game board for a Seafarers scenario?\" # Answer in catan_seafarers_5to6p.pdf at page 2 (Assemble frame as in the photo and place tiles ..)\n",
    "search_faiss(query, k=2)\n",
    "\n",
    "query = \"What happens when the barbarian ship reaches Catan?\" # Answer in catan_barbarians_3to4p.pdf at page 7 (must compare knight strength to barbarians strength)\n",
    "search_faiss(query, k=2)\n",
    "\n",
    "query = \"How are knights used in the game, and what actions can they perform?\" # Answer in catan_barbarians_3to4p.pdf at page 6 (msut be activated by paying 1 grain, then he can used)\n",
    "search_faiss(query, k=2)"
   ]
  }
 ],
 "metadata": {
  "language_info": {
   "name": "python"
  }
 },
 "nbformat": 4,
 "nbformat_minor": 2
}
