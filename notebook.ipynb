{
 "cells": [
  {
   "cell_type": "code",
   "execution_count": 2,
   "metadata": {},
   "outputs": [],
   "source": [
    "import os\n",
    "import json\n",
    "import re\n",
    "import pdfplumber\n",
    "from langchain.text_splitter import RecursiveCharacterTextSplitter\n",
    "from langchain.text_splitter import SentenceTransformersTokenTextSplitter\n",
    "from sentence_transformers import SentenceTransformer\n",
    "import faiss"
   ]
  },
  {
   "cell_type": "markdown",
   "metadata": {},
   "source": [
    "# Read PDFs and Chunk"
   ]
  },
  {
   "cell_type": "code",
   "execution_count": 3,
   "metadata": {},
   "outputs": [],
   "source": [
    "# Read PDF file and return full text\n",
    "\n",
    "def read_pdf(filepath):\n",
    "    text = \"\"\n",
    "    with pdfplumber.open(filepath) as pdf:\n",
    "        for page in pdf.pages:\n",
    "            page_text = page.extract_text()\n",
    "            if page_text:\n",
    "                text += page_text + \"\\n\"\n",
    "    return text"
   ]
  },
  {
   "cell_type": "code",
   "execution_count": 4,
   "metadata": {},
   "outputs": [],
   "source": [
    "def read_pdf_smart(filepath): \n",
    "    full_text = \"\"\n",
    "    with pdfplumber.open(filepath) as pdf:\n",
    "        for page in pdf.pages:\n",
    "            text = page.extract_text(x_tolerance=1.5, y_tolerance=1.5, layout=True)\n",
    "            if text:\n",
    "                full_text += text + \"\\n\"\n",
    "    return full_text"
   ]
  },
  {
   "cell_type": "code",
   "execution_count": 5,
   "metadata": {},
   "outputs": [],
   "source": [
    "# Chunk text with RecursiveCharacterTextSplitter\n",
    "def chunk_text(text, chunk_size=600, chunk_overlap=100):\n",
    "    splitter = RecursiveCharacterTextSplitter(\n",
    "        chunk_size=chunk_size,\n",
    "        chunk_overlap=chunk_overlap\n",
    "    )\n",
    "    return splitter.split_text(text)"
   ]
  },
  {
   "cell_type": "code",
   "execution_count": 6,
   "metadata": {},
   "outputs": [],
   "source": [
    "def chunk_text_smart(text):\n",
    "    lines = text.splitlines()\n",
    "    sections = []\n",
    "    current_heading = \"\"\n",
    "    buffer = []\n",
    "\n",
    "    for line in lines:\n",
    "        stripped = line.strip()\n",
    "        if is_heading(stripped):\n",
    "            # Save previous section\n",
    "            if buffer:\n",
    "                sections.append(current_heading + \"Content: \" + \"\\n\".join(buffer).strip())\n",
    "                buffer = []\n",
    "            current_heading = stripped\n",
    "        else:\n",
    "            buffer.append(stripped)\n",
    "\n",
    "    return sections\n",
    "\n",
    "def is_heading(line):\n",
    "    line = line.strip()\n",
    "    # Good heuristics for heading lines:\n",
    "    return (\n",
    "        len(line) < 100 and (\n",
    "            re.match(r\"^[A-Z][A-Z\\s]{3,}$\", line) or  # ALL CAPS\n",
    "            re.match(r\"^[A-Z][a-z]{1,15}(\\s+[A-Z][a-z]{1,15}){0,4}$\", line) or  # Title Case\n",
    "            re.match(r\"^[a-z]?\\)?\\s?[A-Z].{0,50}$\", line)  # a) Heading Y style\n",
    "        )\n",
    "    )"
   ]
  },
  {
   "cell_type": "code",
   "execution_count": 11,
   "metadata": {},
   "outputs": [],
   "source": [
    "def chunk_text_modelsized(text, expansion_name, model_name=\"sentence-transformers/all-MiniLM-L6-v2\", chunk_size=256, chunk_overlap=20):\n",
    "    splitter = SentenceTransformersTokenTextSplitter(\n",
    "        tokens_per_chunk=chunk_size,\n",
    "        chunk_overlap=chunk_overlap,\n",
    "        model_name=model_name\n",
    "    )\n",
    "\n",
    "    chunks = splitter.split_text(text)\n",
    "\n",
    "    return [f\"These rules apply to the {expansion_name} game\\n{chunk}\" for chunk in chunks]"
   ]
  },
  {
   "cell_type": "code",
   "execution_count": 8,
   "metadata": {},
   "outputs": [],
   "source": [
    "# Save chunks as JSON to chunks/ directory\n",
    "def save_chunks_to_json(chunks, filename, output_dir=\"chunks\"):\n",
    "    os.makedirs(output_dir, exist_ok=True)\n",
    "    output_path = os.path.join(output_dir, filename)\n",
    "\n",
    "    # Wrap each chunk as a dict for easier future use\n",
    "    data = [{\"id\": i, \"text\": chunk} for i, chunk in enumerate(chunks)]\n",
    "\n",
    "    with open(output_path, \"w\", encoding=\"utf-8\") as f:\n",
    "        json.dump(data, f, ensure_ascii=False, indent=2)\n",
    "\n",
    "    print(f\"Saved {len(data)} chunks to {output_path}\")"
   ]
  },
  {
   "cell_type": "code",
   "execution_count": 13,
   "metadata": {},
   "outputs": [
    {
     "name": "stdout",
     "output_type": "stream",
     "text": [
      "Processing: data/catan_barbarians_3to4p.pdf\n",
      "Saved 232 chunks to chunks/catan_barbarians_3to4p.json\n",
      "Processing: data/catan_barbarians_5to6p.pdf\n",
      "Saved 46 chunks to chunks/catan_barbarians_5to6p.json\n",
      "Processing: data/catan_base_3to4p.pdf\n",
      "Saved 157 chunks to chunks/catan_base_3to4p.json\n",
      "Processing: data/catan_base_5to6p.pdf\n",
      "Saved 32 chunks to chunks/catan_base_5to6p.json\n",
      "Processing: data/catan_knights_3to4p.pdf\n",
      "Saved 185 chunks to chunks/catan_knights_3to4p.json\n",
      "Processing: data/catan_knights_5to6p.pdf\n",
      "Saved 16 chunks to chunks/catan_knights_5to6p.json\n",
      "Processing: data/catan_pirates_3to4p.pdf\n",
      "Saved 153 chunks to chunks/catan_pirates_3to4p.json\n",
      "Processing: data/catan_pirates_5to4p.pdf\n",
      "Saved 33 chunks to chunks/catan_pirates_5to4p.json\n",
      "Processing: data/catan_seafarers_3to4p.pdf\n",
      "Saved 204 chunks to chunks/catan_seafarers_3to4p.json\n",
      "Processing: data/catan_seafarers_5to6p.pdf\n",
      "Saved 94 chunks to chunks/catan_seafarers_5to6p.json\n"
     ]
    }
   ],
   "source": [
    "# Process all PDFs smartly in /data\n",
    "rulebook_translations = {\n",
    "    \"catan_barbarians_3to4p\": \"Traders and Barbarians 3 to 4 players\",\n",
    "    \"catan_barbarians_5to6p\": \"Traders and Barbarians 5 to 6 players\",\n",
    "    \"catan_base_3to4p\": \"Base 3 to 4 players\",\n",
    "    \"catan_base_5to6p\": \"Base 5 to 6 players\",\n",
    "    \"catan_knights_3to4p\": \"Cities and Knights 3 to 4 players\",\n",
    "    \"catan_knights_5to6p\": \"Cities and Knights 5 to 6 players\",\n",
    "    \"catan_pirates_3to4p\": \"Explorers and Pirates 3 to 4 players\",\n",
    "    \"catan_pirates_5to4p\": \"Explorers and Pirates 5 to 6 players\",\n",
    "    \"catan_seafarers_3to4p\": \"Seafarers 3 to 4 players\",\n",
    "    \"catan_seafarers_5to6p\": \"Seafarers 5 to 6 players\"\n",
    "}\n",
    "\n",
    "data_dir = \"data\"\n",
    "for file in os.listdir(data_dir):\n",
    "    if file.endswith(\".pdf\"):\n",
    "        filename = os.path.splitext(file)[0]\n",
    "        pdf_path = os.path.join(data_dir, file)\n",
    "        chunk_path = filename + \".json\"\n",
    "\n",
    "        print(f\"Processing: {pdf_path}\")\n",
    "\n",
    "        text = read_pdf_smart(pdf_path)\n",
    "        chunks = chunk_text_modelsized(text, rulebook_translations[filename], \"sentence-transformers/all-MiniLM-L6-v2\", 112, 22)\n",
    "        \n",
    "        save_chunks_to_json(chunks, chunk_path)"
   ]
  },
  {
   "cell_type": "markdown",
   "metadata": {},
   "source": [
    "# Tokenize and Index"
   ]
  },
  {
   "cell_type": "code",
   "execution_count": 14,
   "metadata": {},
   "outputs": [],
   "source": [
    "def load_chunks_from_folder(folder_path):\n",
    "    all_texts = []\n",
    "    for filename in os.listdir(folder_path):\n",
    "        if filename.endswith('.json'):\n",
    "            with open(os.path.join(folder_path, filename), 'r', encoding='utf-8') as f:\n",
    "                data = json.load(f)\n",
    "                all_texts.extend([item['text'] for item in data])\n",
    "    return all_texts"
   ]
  },
  {
   "cell_type": "code",
   "execution_count": 15,
   "metadata": {},
   "outputs": [],
   "source": [
    "def embed_and_index(chunks, model_name=\"sentence-transformers/all-MiniLM-L6-v2\", batch_size=32):\n",
    "    model = SentenceTransformer(model_name)\n",
    "    embeddings = model.encode(chunks, batch_size=batch_size, show_progress_bar=True, convert_to_numpy=True)\n",
    "    \n",
    "    dimension = embeddings.shape[1]\n",
    "    index = faiss.IndexFlatL2(dimension)\n",
    "    index.add(embeddings)\n",
    "    \n",
    "    return index, chunks"
   ]
  },
  {
   "cell_type": "code",
   "execution_count": 16,
   "metadata": {},
   "outputs": [
    {
     "name": "stdout",
     "output_type": "stream",
     "text": [
      "Loaded 1152 documents.\n"
     ]
    },
    {
     "data": {
      "application/vnd.jupyter.widget-view+json": {
       "model_id": "9f92bf9fc6444b248b4f7b958e9e900f",
       "version_major": 2,
       "version_minor": 0
      },
      "text/plain": [
       "Batches:   0%|          | 0/36 [00:00<?, ?it/s]"
      ]
     },
     "metadata": {},
     "output_type": "display_data"
    },
    {
     "name": "stdout",
     "output_type": "stream",
     "text": [
      "FAISS index built.\n"
     ]
    }
   ],
   "source": [
    "folder_path = \"chunks/\"\n",
    "chunks = load_chunks_from_folder(folder_path)\n",
    "print(f\"Loaded {len(chunks)} documents.\")\n",
    "\n",
    "index, chunk_lookup = embed_and_index(chunks)\n",
    "print(\"FAISS index built.\")"
   ]
  },
  {
   "cell_type": "code",
   "execution_count": 17,
   "metadata": {},
   "outputs": [],
   "source": [
    "faiss.write_index(index, \"index/my_index.faiss\")\n",
    "with open(\"index/chunk_lookup.json\", \"w\") as f:\n",
    "    json.dump(chunk_lookup, f)"
   ]
  },
  {
   "cell_type": "markdown",
   "metadata": {},
   "source": [
    "# Retrieval"
   ]
  },
  {
   "cell_type": "code",
   "execution_count": 18,
   "metadata": {},
   "outputs": [],
   "source": [
    "model_name = \"sentence-transformers/all-MiniLM-L6-v2\"\n",
    "model = SentenceTransformer(model_name)\n",
    "\n",
    "def search_faiss(query, k=3):\n",
    "    query_embedding = model.encode([query], convert_to_numpy=True)\n",
    "    distances, indices = index.search(query_embedding, k)\n",
    "    \n",
    "    print(f\"\\nTop {k} results for: \\\"{query}\\\"\\n\")\n",
    "    for rank, (idx, dist) in enumerate(zip(indices[0], distances[0]), start=1):\n",
    "        print(f\"Result #{rank} (Distance: {dist:.4f})\")\n",
    "        print(chunk_lookup[idx])\n",
    "        print(\"-\" * 80)"
   ]
  },
  {
   "cell_type": "code",
   "execution_count": 19,
   "metadata": {},
   "outputs": [
    {
     "name": "stdout",
     "output_type": "stream",
     "text": [
      "\n",
      "Top 2 results for: \"How do you acquire resources during the game?\"\n",
      "\n",
      "Result #1 (Distance: 0.9400)\n",
      "These rules apply to the Base 3 to 4 players game\n",
      "with the game board laid out randomly. the board changes each game. sort the resource cards into 5 stacks and put them face up if you would like to use the variable set - up, you can find the next to the game board. illustration b guidelines in the almanac under set - up, variable y. also look shuffle the development for useful tips under set - up phase y and tactics y. cards and place them face down by the board. s u g etting p the ame you receive resources y select a color and take your 5 settlements\n",
      "--------------------------------------------------------------------------------\n",
      "Result #2 (Distance: 0.9671)\n",
      "These rules apply to the Cities and Knights 3 to 4 players game\n",
      "2 : 1 rate. you can make as many such trades as you wish. as usual, you may exchange commodities for resources and vice versa. resource monopoly ( 4 ) resource monopoly name a resource. each player must give you 2 of that type of resource if they have them. you may name any of the 5 resources ( ore, grain, wool, name a resource ( brick, grain, ore, lumber, or wool ). lumber, or brick ). each player each opponent must give you that has the named resource must 2 cards of that type (\n",
      "--------------------------------------------------------------------------------\n",
      "\n",
      "Top 2 results for: \"How do you get the Longest Road special card and what happens if another player builds a longer road?\"\n",
      "\n",
      "Result #1 (Distance: 0.4544)\n",
      "These rules apply to the Base 3 to 4 players game\n",
      "“ longest road ” card comes into play again when only 1 player has the longest road ( of at least 5 road pieces ). 99 hbmg natac 5102 © © 2015 catan gmbh © 2015 catan gmbh © 2015 catan gmbh hbmg natac 5102 © longest road 2 victory points! this card goes to the player with the longest road of at least 5 segments. another player who builds a longer : road takes this card. aa cc bb nn rr n t r c ( r ) umber okens esource\n",
      "--------------------------------------------------------------------------------\n",
      "Result #2 (Distance: 0.6172)\n",
      "These rules apply to the Base 3 to 4 players game\n",
      "build a settlement. the settlements marked “ a ” are already turn to claim victory. longest road in play. coleman cannot build on the intersections marked example : siobhan has 2 settlements 2 victory points! this card goes to the player with the longest road of at least 5 segments. another player who builds a longer “ b. ” he can only build at intersection “ c. ” road takes this card. ( 2 points ), the longest road special card ( 2 points ), 2 cities ( 4 points ), and 2 victory point cards ( 2 points\n",
      "--------------------------------------------------------------------------------\n",
      "\n",
      "Top 2 results for: \"What do you need to play a Seafarers 5-6 Player scenario?\"\n",
      "\n",
      "Result #1 (Distance: 0.5215)\n",
      "These rules apply to the Seafarers 5 to 6 players game\n",
      "build seafarers scenario - specific actions seafarers scenario - specific actions 33 scenarios each scenario is presented in this format : name of scenario 1. components these tables show how many of each component you need to play the scenario. 2. preparation if the scenario has any special instructions for preparing the game, they are explained in this section. 3. additional rules any additional rules for the scenario are described here. 4. variable set - up this section provides advice on how to vary the standard set - up. scenario diagram the scenario diagram provides the board set -\n",
      "--------------------------------------------------------------------------------\n",
      "Result #2 (Distance: 0.5420)\n",
      "These rules apply to the Seafarers 5 to 6 players game\n",
      "....... 1 total :........ 38 11s.......... 3 total :........ 25 11s.......... 1 12s.......... 2 12s.......... 1 total :....... 25 total :....... 13 additional components : none 2. preparation as specified in\n",
      "--------------------------------------------------------------------------------\n",
      "\n",
      "Top 2 results for: \"How should you assemble the game board for a Seafarers scenario?\"\n",
      "\n",
      "Result #1 (Distance: 0.4861)\n",
      "These rules apply to the Seafarers 5 to 6 players game\n",
      "from a copy of catan, seafarers, and catan 5 - 6. each scenario includes a scenario diagram and a table listing all the specific components you need to play that scenario. assembling the board before you can start a scenario, you must first construct the board. each scenario in this book includes a scenario diagram that shows how the board should be built. assemble the frame as shown in the image on the right as well as the individual scenario diagrams. after you build the frame, place the hexagonal tiles ( hexes ).\n",
      "--------------------------------------------------------------------------------\n",
      "Result #2 (Distance: 0.5843)\n",
      "These rules apply to the Seafarers 3 to 4 players game\n",
      "of each component you need to play the scenario. i i! mportant nformation 2. preparation it is easy to assemble the frame when you insert the if the scenario has any special instructions for preparing catan frame pieces from above, placing them down into the game, they are explained in this section. unless stated the seafarers frame pieces! otherwise, the harbor tokens used in each scenario are shuffled if you proceed the other way around, you ’ ll need with their blank sides face up and then placed randomly face more force. this may\n",
      "--------------------------------------------------------------------------------\n",
      "\n",
      "Top 2 results for: \"What happens when the barbarian ship reaches Catan?\"\n",
      "\n",
      "Result #1 (Distance: 0.7983)\n",
      "These rules apply to the Cities and Knights 3 to 4 players game\n",
      ", if you roll catan. the ship follows the track on the a “ 7 ”, all players must check if barbarian tile. the ship begins its journey on the they are holding too many cards space illustrated with the ship. the barbarians as usual ; however, you do not attack when the ship reaches the last space. ( see “ attack move the robber from the desert of the barbarians ” on page 11. ) and you do not steal a card from • if one of the three city gate symbols ( blue, green, or another player. further,\n",
      "--------------------------------------------------------------------------------\n",
      "Result #2 (Distance: 0.8299)\n",
      "These rules apply to the Cities and Knights 3 to 4 players game\n",
      "city wall, the city are turned so that their inactive ( black & white ) side faces up. wall is destroyed and removed from the board. starting with the next player ’ s turn, the barbarians will begin a new journey to the rich island of catan. 1111 hbmg natac 0202 © defender of catan victory point card ( back & front ) losing your last city if you are unfortunate enough to have your last city pillaged by the barbarians, you are allowed to keep any city improvements that you may have built before the attack\n",
      "--------------------------------------------------------------------------------\n",
      "\n",
      "Top 2 results for: \"How are knights used in the game, and what actions can they perform?\"\n",
      "\n",
      "Result #1 (Distance: 0.6488)\n",
      "These rules apply to the Cities and Knights 3 to 4 players game\n",
      "inactive ). your active knights to an intersection that then red must pay one grain to activate her knight. on a illustration o is occupied by one of future turn, she could then use this knight to chase away the your opponent ’ s knights. this is called “ displacing ” a knight. you robber. may only displace a knight if it is weaker than the knight that a you are moving. thus, a strong knight can only displace a basic ttack of the aa knight, and a mighty knight may displace a\n",
      "--------------------------------------------------------------------------------\n",
      "Result #2 (Distance: 0.7540)\n",
      "These rules apply to the Cities and Knights 3 to 4 players game\n",
      "serve you in 2 ways. first, they help protect catan knights almanac : from the barbarian army ( see “ attack of the barbarians ” on • victory point cards must be played immediately when page 11 ). second, your active knights can perform one action drawn. the spy may not steal them, and they cannot be during your turn. each knight may perform any 1 of the actions hidden in your hand. these cards do not count toward your each turn. a knight may not be activated and then perform hand limit of 4 cards. an action on the\n",
      "--------------------------------------------------------------------------------\n"
     ]
    }
   ],
   "source": [
    "query = \"How do you acquire resources during the game?\" # Answer in catan_base_3to4p.pdf at page 11 (you gotta dice the numbers where your settlements are)\n",
    "search_faiss(query, k=2)\n",
    "\n",
    "query = \"How do you get the Longest Road special card and what happens if another player builds a longer road?\" # Answer in catan_base_3to4p.pdf at page 5 (5 continoous reoad segments (and longest))\n",
    "search_faiss(query, k=2)\n",
    "\n",
    "query = \"What do you need to play a Seafarers 5-6 Player scenario?\" # Answer in catan_seafarers_5to6p.pdf at page 2 (you need Catan & Catan 5&6p, and seafarers game)\n",
    "search_faiss(query, k=2)\n",
    "\n",
    "query = \"How should you assemble the game board for a Seafarers scenario?\" # Answer in catan_seafarers_5to6p.pdf at page 2 (Assemble frame as in the photo and place tiles ..)\n",
    "search_faiss(query, k=2)\n",
    "\n",
    "query = \"What happens when the barbarian ship reaches Catan?\" # Answer in catan_barbarians_3to4p.pdf at page 7 (must compare knight strength to barbarians strength)\n",
    "search_faiss(query, k=2)\n",
    "\n",
    "query = \"How are knights used in the game, and what actions can they perform?\" # Answer in catan_barbarians_3to4p.pdf at page 6 (msut be activated by paying 1 grain, then he can used)\n",
    "search_faiss(query, k=2)"
   ]
  }
 ],
 "metadata": {
  "language_info": {
   "name": "python"
  }
 },
 "nbformat": 4,
 "nbformat_minor": 2
}
